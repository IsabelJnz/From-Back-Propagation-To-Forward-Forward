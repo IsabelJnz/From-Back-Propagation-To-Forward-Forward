{
  "nbformat": 4,
  "nbformat_minor": 0,
  "metadata": {
    "colab": {
      "provenance": [],
      "authorship_tag": "ABX9TyNW9REvGw3lzfrZ1Qvqy4kr"
    },
    "kernelspec": {
      "name": "python3",
      "display_name": "Python 3"
    },
    "language_info": {
      "name": "python"
    }
  },
  "cells": [
    {
      "cell_type": "code",
      "execution_count": 1,
      "metadata": {
        "colab": {
          "base_uri": "https://localhost:8080/"
        },
        "id": "B5T3LpRW153T",
        "outputId": "83e7f25f-07fd-4880-ce0d-c4a3fba69218"
      },
      "outputs": [
        {
          "output_type": "stream",
          "name": "stdout",
          "text": [
            "p-value: (-91.60628683450511, 3.028381352208943e-36, 28.0)\n"
          ]
        }
      ],
      "source": [
        "import pandas as pd\n",
        "from statsmodels.stats.weightstats import ttest_ind\n",
        "\n",
        "# Load data into a pandas DataFrame\n",
        "data = [[0.930679976940155,0.9305999875068665,1.0,0.9716999530792236],\n",
        "        [0.9301999807357788,0.9286999702453613,1.0,0.9745999574661255],\n",
        "        [0.9290199875831604,0.9273999929428101,1.0,0.97489994764328],\n",
        "        [0.9310199618339539,0.9300999641418457,1.0,0.9732999801635742],\n",
        "        [0.9288399815559387,0.9293999671936035,1.0,0.9726999998092651],\n",
        "        [0.9312199950218201,0.9271999597549438,1.0,0.9731999635696411],\n",
        "        [0.9293799996376038,0.9276999831199646,1.0,0.9714999794960022],\n",
        "        [0.9312199950218201,0.9318999648094177,1.0,0.9740999937057495],\n",
        "        [0.9301199913024902,0.9287999868392944,1.0,0.973800003528595],\n",
        "        [0.9304199814796448,0.9320999979972839,1.0,0.9733999967575073],\n",
        "        [0.9295199513435364,0.9276999831199646,1.0,0.9736999869346619],\n",
        "        [0.9306399822235107,0.9294999837875366,1.0,0.9726999998092651],\n",
        "        [0.9275199770927429,0.9299999475479126,1.0,0.9728999733924866],\n",
        "        [0.9293199777603149,0.9296999573707581,1.0,0.9723999500274658],\n",
        "        [0.9285999536514282,0.9283999800682068,1.0,0.9751999974250793]]\n",
        "df = pd.DataFrame(data, columns=['ff_train_acc','ff_test_acc','fb_train_acc','fb_test_acc'])\n",
        "\n",
        "# Perform the t-test and get the p-value\n",
        "p = ttest_ind(df['ff_test_acc'], df['fb_test_acc'])\n",
        "print(\"p-value:\", p)\n"
      ]
    },
    {
      "cell_type": "markdown",
      "source": [
        "p-value: (-91.60628683450511, 3.028381352208943e-36, 28.0)\n",
        "\n",
        "The first value, -91.60628683450511, is the t-statistic. It is the test statistic used to determine the p-value.\n",
        "\n",
        "The second value, 3.028381352208943e-36, is the p-value. It is the probability of observing a t-statistic as extreme or more extreme than the one calculated, assuming that the null hypothesis is true. This p-value indicates that the difference between the means of the two groups is statistically significant. A p-value less than 0.05 is considered statistically significant.\n",
        "\n",
        "The third value, 28.0, is the degrees of freedom of the t-distribution. It is used in the calculation of the p-value.\n",
        "\n",
        "In this case, the p-value is very small, which suggests that the null hypothesis (the means of the two groups are equal) can be rejected in favor of the alternative hypothesis (the means of the two groups are different). This means that the test result shows that the accuracy of the ff_test_acc is statistically different from the accuracy of the fb_test_acc\n"
      ],
      "metadata": {
        "id": "-Hi-uvif20Qm"
      }
    },
    {
      "cell_type": "code",
      "source": [
        "from scipy import stats\n",
        "ff_test_acc = [0.9305999875068665, 0.9286999702453613, 0.9273999929428101, 0.9300999641418457, 0.9293999671936035, 0.9271999597549438, 0.9276999831199646, 0.9318999648094177, 0.9287999868392944, 0.9320999979972839, 0.9276999831199646, 0.9294999837875366, 0.9299999475479126, 0.9296999573707581, 0.9283999800682068]\n",
        "fb_test_acc = [0.9716999530792236, 0.9745999574661255, 0.97489994764328, 0.9732999801635742, 0.9726999998092651, 0.9731999635696411, 0.9714999794960022, 0.9740999937057495, 0.973800003528595, 0.9733999967575073, 0.9736999869346619, 0.9726999998092651, 0.9728999733924866, 0.9723999500274658, 0.9751999974250793]\n",
        "t_statistic, p_value = stats.ttest_ind(ff_test_acc, fb_test_acc)\n"
      ],
      "metadata": {
        "id": "Hz-ghlq520pZ"
      },
      "execution_count": 2,
      "outputs": []
    },
    {
      "cell_type": "code",
      "source": [
        "print(t_statistic)\n",
        "print(p_value)"
      ],
      "metadata": {
        "colab": {
          "base_uri": "https://localhost:8080/"
        },
        "id": "FqSsUd7622xO",
        "outputId": "cb37af3a-0b9b-4a29-c601-322366fcf3d2"
      },
      "execution_count": 3,
      "outputs": [
        {
          "output_type": "stream",
          "name": "stdout",
          "text": [
            "-91.60628683450511\n",
            "3.028381352208943e-36\n"
          ]
        }
      ]
    },
    {
      "cell_type": "markdown",
      "source": [
        "The p-value of 3.028381352208943e-36 is extremely small. This means that there is a very small probability of observing a difference in means as large or larger than the one in the sample data if the null hypothesis (that the means of the two datasets (ff_test_acc and fb_test_acc) are equal) is true.\n",
        "In other words, the probability of observing the difference between the means of the two datasets (ff_test_acc and fb_test_acc) due to random chance is extremely low.\n",
        "Therefore, we can reject the null hypothesis and conclude that there is a significant difference in means between the two datasets, and that the difference is likely not due to chance.\n",
        "It is a strong evidence that the ff_test_acc and fb_test_acc have different mean."
      ],
      "metadata": {
        "id": "zEuVH5Jw25sQ"
      }
    }
  ]
}