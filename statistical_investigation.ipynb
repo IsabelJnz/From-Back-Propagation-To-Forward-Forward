{
  "nbformat": 4,
  "nbformat_minor": 0,
  "metadata": {
    "colab": {
      "provenance": [],
      "authorship_tag": "ABX9TyNGv+AJHY1Ps+iCbv5YxVag"
    },
    "kernelspec": {
      "name": "python3",
      "display_name": "Python 3"
    },
    "language_info": {
      "name": "python"
    },
    "accelerator": "GPU",
    "gpuClass": "standard"
  },
  "cells": [
    {
      "cell_type": "markdown",
      "source": [
        "# Empirical Investigation: Statistical Test"
      ],
      "metadata": {
        "id": "vi6cYIhnkLIy"
      }
    },
    {
      "cell_type": "code",
      "source": [
        "import pandas as pd\n",
        "from statsmodels.stats.weightstats import ttest_ind\n",
        "from scipy import stats\n",
        "import csv\n"
      ],
      "metadata": {
        "id": "MT7Q6c7cg5JD"
      },
      "execution_count": 1,
      "outputs": []
    },
    {
      "cell_type": "code",
      "source": [
        "with open('final_accs.csv', 'r', encoding='utf-8') as file:\n",
        "    reader = csv.reader(file)\n",
        "    header = next(reader)\n",
        "    data = [row for row in reader]\n",
        "\n",
        "df = pd.DataFrame(data, columns=header)"
      ],
      "metadata": {
        "id": "-X6-b2oplqsa"
      },
      "execution_count": 23,
      "outputs": []
    },
    {
      "cell_type": "code",
      "source": [
        "df = df.astype(float)\n"
      ],
      "metadata": {
        "id": "3YTvW5KbmPj9"
      },
      "execution_count": 29,
      "outputs": []
    },
    {
      "cell_type": "code",
      "source": [
        "df_runtime = df[['ff_train_time', 'ff_test_time', 'fb_train_time', 'fb_test_time']]\n",
        "df_runtime"
      ],
      "metadata": {
        "colab": {
          "base_uri": "https://localhost:8080/",
          "height": 394
        },
        "id": "DOvI720jom5O",
        "outputId": "543586df-06b2-49f9-e480-1ad322698612"
      },
      "execution_count": 25,
      "outputs": [
        {
          "output_type": "execute_result",
          "data": {
            "text/plain": [
              "    ff_train_time  ff_test_time  fb_train_time  fb_test_time\n",
              "0      106.953362      2.454056       4.020643      0.017794\n",
              "1      106.817223      1.951378       4.012678      0.018571\n",
              "2      106.863541      2.411181       4.040795      0.017637\n",
              "3      107.069862      1.963288       4.019366      0.018249\n",
              "4      107.060204      2.325379       4.039193      0.017631\n",
              "5      106.904060      1.990357       4.055216      0.017784\n",
              "6      107.002090      1.989709       4.028404      0.017763\n",
              "7      106.978630      2.016014       4.020052      0.012162\n",
              "8      106.884392      1.992291       4.040663      0.017647\n",
              "9      106.964607      1.896359       4.013278      0.017724\n",
              "10     107.031555      1.842056       4.019631      0.017527"
            ],
            "text/html": [
              "\n",
              "  <div id=\"df-7577c57f-c6e4-46bf-90c8-6f481da3e3f1\">\n",
              "    <div class=\"colab-df-container\">\n",
              "      <div>\n",
              "<style scoped>\n",
              "    .dataframe tbody tr th:only-of-type {\n",
              "        vertical-align: middle;\n",
              "    }\n",
              "\n",
              "    .dataframe tbody tr th {\n",
              "        vertical-align: top;\n",
              "    }\n",
              "\n",
              "    .dataframe thead th {\n",
              "        text-align: right;\n",
              "    }\n",
              "</style>\n",
              "<table border=\"1\" class=\"dataframe\">\n",
              "  <thead>\n",
              "    <tr style=\"text-align: right;\">\n",
              "      <th></th>\n",
              "      <th>ff_train_time</th>\n",
              "      <th>ff_test_time</th>\n",
              "      <th>fb_train_time</th>\n",
              "      <th>fb_test_time</th>\n",
              "    </tr>\n",
              "  </thead>\n",
              "  <tbody>\n",
              "    <tr>\n",
              "      <th>0</th>\n",
              "      <td>106.953362</td>\n",
              "      <td>2.454056</td>\n",
              "      <td>4.020643</td>\n",
              "      <td>0.017794</td>\n",
              "    </tr>\n",
              "    <tr>\n",
              "      <th>1</th>\n",
              "      <td>106.817223</td>\n",
              "      <td>1.951378</td>\n",
              "      <td>4.012678</td>\n",
              "      <td>0.018571</td>\n",
              "    </tr>\n",
              "    <tr>\n",
              "      <th>2</th>\n",
              "      <td>106.863541</td>\n",
              "      <td>2.411181</td>\n",
              "      <td>4.040795</td>\n",
              "      <td>0.017637</td>\n",
              "    </tr>\n",
              "    <tr>\n",
              "      <th>3</th>\n",
              "      <td>107.069862</td>\n",
              "      <td>1.963288</td>\n",
              "      <td>4.019366</td>\n",
              "      <td>0.018249</td>\n",
              "    </tr>\n",
              "    <tr>\n",
              "      <th>4</th>\n",
              "      <td>107.060204</td>\n",
              "      <td>2.325379</td>\n",
              "      <td>4.039193</td>\n",
              "      <td>0.017631</td>\n",
              "    </tr>\n",
              "    <tr>\n",
              "      <th>5</th>\n",
              "      <td>106.904060</td>\n",
              "      <td>1.990357</td>\n",
              "      <td>4.055216</td>\n",
              "      <td>0.017784</td>\n",
              "    </tr>\n",
              "    <tr>\n",
              "      <th>6</th>\n",
              "      <td>107.002090</td>\n",
              "      <td>1.989709</td>\n",
              "      <td>4.028404</td>\n",
              "      <td>0.017763</td>\n",
              "    </tr>\n",
              "    <tr>\n",
              "      <th>7</th>\n",
              "      <td>106.978630</td>\n",
              "      <td>2.016014</td>\n",
              "      <td>4.020052</td>\n",
              "      <td>0.012162</td>\n",
              "    </tr>\n",
              "    <tr>\n",
              "      <th>8</th>\n",
              "      <td>106.884392</td>\n",
              "      <td>1.992291</td>\n",
              "      <td>4.040663</td>\n",
              "      <td>0.017647</td>\n",
              "    </tr>\n",
              "    <tr>\n",
              "      <th>9</th>\n",
              "      <td>106.964607</td>\n",
              "      <td>1.896359</td>\n",
              "      <td>4.013278</td>\n",
              "      <td>0.017724</td>\n",
              "    </tr>\n",
              "    <tr>\n",
              "      <th>10</th>\n",
              "      <td>107.031555</td>\n",
              "      <td>1.842056</td>\n",
              "      <td>4.019631</td>\n",
              "      <td>0.017527</td>\n",
              "    </tr>\n",
              "  </tbody>\n",
              "</table>\n",
              "</div>\n",
              "      <button class=\"colab-df-convert\" onclick=\"convertToInteractive('df-7577c57f-c6e4-46bf-90c8-6f481da3e3f1')\"\n",
              "              title=\"Convert this dataframe to an interactive table.\"\n",
              "              style=\"display:none;\">\n",
              "        \n",
              "  <svg xmlns=\"http://www.w3.org/2000/svg\" height=\"24px\"viewBox=\"0 0 24 24\"\n",
              "       width=\"24px\">\n",
              "    <path d=\"M0 0h24v24H0V0z\" fill=\"none\"/>\n",
              "    <path d=\"M18.56 5.44l.94 2.06.94-2.06 2.06-.94-2.06-.94-.94-2.06-.94 2.06-2.06.94zm-11 1L8.5 8.5l.94-2.06 2.06-.94-2.06-.94L8.5 2.5l-.94 2.06-2.06.94zm10 10l.94 2.06.94-2.06 2.06-.94-2.06-.94-.94-2.06-.94 2.06-2.06.94z\"/><path d=\"M17.41 7.96l-1.37-1.37c-.4-.4-.92-.59-1.43-.59-.52 0-1.04.2-1.43.59L10.3 9.45l-7.72 7.72c-.78.78-.78 2.05 0 2.83L4 21.41c.39.39.9.59 1.41.59.51 0 1.02-.2 1.41-.59l7.78-7.78 2.81-2.81c.8-.78.8-2.07 0-2.86zM5.41 20L4 18.59l7.72-7.72 1.47 1.35L5.41 20z\"/>\n",
              "  </svg>\n",
              "      </button>\n",
              "      \n",
              "  <style>\n",
              "    .colab-df-container {\n",
              "      display:flex;\n",
              "      flex-wrap:wrap;\n",
              "      gap: 12px;\n",
              "    }\n",
              "\n",
              "    .colab-df-convert {\n",
              "      background-color: #E8F0FE;\n",
              "      border: none;\n",
              "      border-radius: 50%;\n",
              "      cursor: pointer;\n",
              "      display: none;\n",
              "      fill: #1967D2;\n",
              "      height: 32px;\n",
              "      padding: 0 0 0 0;\n",
              "      width: 32px;\n",
              "    }\n",
              "\n",
              "    .colab-df-convert:hover {\n",
              "      background-color: #E2EBFA;\n",
              "      box-shadow: 0px 1px 2px rgba(60, 64, 67, 0.3), 0px 1px 3px 1px rgba(60, 64, 67, 0.15);\n",
              "      fill: #174EA6;\n",
              "    }\n",
              "\n",
              "    [theme=dark] .colab-df-convert {\n",
              "      background-color: #3B4455;\n",
              "      fill: #D2E3FC;\n",
              "    }\n",
              "\n",
              "    [theme=dark] .colab-df-convert:hover {\n",
              "      background-color: #434B5C;\n",
              "      box-shadow: 0px 1px 3px 1px rgba(0, 0, 0, 0.15);\n",
              "      filter: drop-shadow(0px 1px 2px rgba(0, 0, 0, 0.3));\n",
              "      fill: #FFFFFF;\n",
              "    }\n",
              "  </style>\n",
              "\n",
              "      <script>\n",
              "        const buttonEl =\n",
              "          document.querySelector('#df-7577c57f-c6e4-46bf-90c8-6f481da3e3f1 button.colab-df-convert');\n",
              "        buttonEl.style.display =\n",
              "          google.colab.kernel.accessAllowed ? 'block' : 'none';\n",
              "\n",
              "        async function convertToInteractive(key) {\n",
              "          const element = document.querySelector('#df-7577c57f-c6e4-46bf-90c8-6f481da3e3f1');\n",
              "          const dataTable =\n",
              "            await google.colab.kernel.invokeFunction('convertToInteractive',\n",
              "                                                     [key], {});\n",
              "          if (!dataTable) return;\n",
              "\n",
              "          const docLinkHtml = 'Like what you see? Visit the ' +\n",
              "            '<a target=\"_blank\" href=https://colab.research.google.com/notebooks/data_table.ipynb>data table notebook</a>'\n",
              "            + ' to learn more about interactive tables.';\n",
              "          element.innerHTML = '';\n",
              "          dataTable['output_type'] = 'display_data';\n",
              "          await google.colab.output.renderOutput(dataTable, element);\n",
              "          const docLink = document.createElement('div');\n",
              "          docLink.innerHTML = docLinkHtml;\n",
              "          element.appendChild(docLink);\n",
              "        }\n",
              "      </script>\n",
              "    </div>\n",
              "  </div>\n",
              "  "
            ]
          },
          "metadata": {},
          "execution_count": 25
        }
      ]
    },
    {
      "cell_type": "code",
      "source": [
        "#vergleich mit Ausgabe\n",
        "mean_values = df_runtime.mean()\n",
        "print(mean_values)"
      ],
      "metadata": {
        "colab": {
          "base_uri": "https://localhost:8080/"
        },
        "id": "wGJEz7qcpT3s",
        "outputId": "ed0de083-fee6-4fe0-9cfb-394d79baab87"
      },
      "execution_count": 31,
      "outputs": [
        {
          "output_type": "stream",
          "name": "stdout",
          "text": [
            "ff_train_time    106.957230\n",
            "ff_test_time       2.075643\n",
            "fb_train_time      4.028175\n",
            "fb_test_time       0.017317\n",
            "dtype: float64\n"
          ]
        }
      ]
    },
    {
      "cell_type": "code",
      "source": [
        "df_accuracy = df[['ff_train_acc', 'ff_test_acc', 'fb_train_acc', 'fb_test_acc']]\n",
        "df_accuracy"
      ],
      "metadata": {
        "colab": {
          "base_uri": "https://localhost:8080/",
          "height": 394
        },
        "id": "lqSzMp-io3zt",
        "outputId": "b31daeb1-1e9f-42f0-c1b5-fccbe247449d"
      },
      "execution_count": 27,
      "outputs": [
        {
          "output_type": "execute_result",
          "data": {
            "text/plain": [
              "    ff_train_acc  ff_test_acc  fb_train_acc  fb_test_acc\n",
              "0        0.94870       0.9494       0.99143       0.9736\n",
              "1        0.94768       0.9480       0.99122       0.9739\n",
              "2        0.94838       0.9494       0.99060       0.9733\n",
              "3        0.94800       0.9495       0.99101       0.9714\n",
              "4        0.94920       0.9510       0.99060       0.9719\n",
              "5        0.94848       0.9473       0.99067       0.9716\n",
              "6        0.94622       0.9472       0.99155       0.9754\n",
              "7        0.94736       0.9493       0.99164       0.9722\n",
              "8        0.94832       0.9476       0.99157       0.9742\n",
              "9        0.94600       0.9447       0.99120       0.9723\n",
              "10       0.94848       0.9500       0.98998       0.9719"
            ],
            "text/html": [
              "\n",
              "  <div id=\"df-497dd2c2-9a21-4b2f-bd17-bca9b8f1dd00\">\n",
              "    <div class=\"colab-df-container\">\n",
              "      <div>\n",
              "<style scoped>\n",
              "    .dataframe tbody tr th:only-of-type {\n",
              "        vertical-align: middle;\n",
              "    }\n",
              "\n",
              "    .dataframe tbody tr th {\n",
              "        vertical-align: top;\n",
              "    }\n",
              "\n",
              "    .dataframe thead th {\n",
              "        text-align: right;\n",
              "    }\n",
              "</style>\n",
              "<table border=\"1\" class=\"dataframe\">\n",
              "  <thead>\n",
              "    <tr style=\"text-align: right;\">\n",
              "      <th></th>\n",
              "      <th>ff_train_acc</th>\n",
              "      <th>ff_test_acc</th>\n",
              "      <th>fb_train_acc</th>\n",
              "      <th>fb_test_acc</th>\n",
              "    </tr>\n",
              "  </thead>\n",
              "  <tbody>\n",
              "    <tr>\n",
              "      <th>0</th>\n",
              "      <td>0.94870</td>\n",
              "      <td>0.9494</td>\n",
              "      <td>0.99143</td>\n",
              "      <td>0.9736</td>\n",
              "    </tr>\n",
              "    <tr>\n",
              "      <th>1</th>\n",
              "      <td>0.94768</td>\n",
              "      <td>0.9480</td>\n",
              "      <td>0.99122</td>\n",
              "      <td>0.9739</td>\n",
              "    </tr>\n",
              "    <tr>\n",
              "      <th>2</th>\n",
              "      <td>0.94838</td>\n",
              "      <td>0.9494</td>\n",
              "      <td>0.99060</td>\n",
              "      <td>0.9733</td>\n",
              "    </tr>\n",
              "    <tr>\n",
              "      <th>3</th>\n",
              "      <td>0.94800</td>\n",
              "      <td>0.9495</td>\n",
              "      <td>0.99101</td>\n",
              "      <td>0.9714</td>\n",
              "    </tr>\n",
              "    <tr>\n",
              "      <th>4</th>\n",
              "      <td>0.94920</td>\n",
              "      <td>0.9510</td>\n",
              "      <td>0.99060</td>\n",
              "      <td>0.9719</td>\n",
              "    </tr>\n",
              "    <tr>\n",
              "      <th>5</th>\n",
              "      <td>0.94848</td>\n",
              "      <td>0.9473</td>\n",
              "      <td>0.99067</td>\n",
              "      <td>0.9716</td>\n",
              "    </tr>\n",
              "    <tr>\n",
              "      <th>6</th>\n",
              "      <td>0.94622</td>\n",
              "      <td>0.9472</td>\n",
              "      <td>0.99155</td>\n",
              "      <td>0.9754</td>\n",
              "    </tr>\n",
              "    <tr>\n",
              "      <th>7</th>\n",
              "      <td>0.94736</td>\n",
              "      <td>0.9493</td>\n",
              "      <td>0.99164</td>\n",
              "      <td>0.9722</td>\n",
              "    </tr>\n",
              "    <tr>\n",
              "      <th>8</th>\n",
              "      <td>0.94832</td>\n",
              "      <td>0.9476</td>\n",
              "      <td>0.99157</td>\n",
              "      <td>0.9742</td>\n",
              "    </tr>\n",
              "    <tr>\n",
              "      <th>9</th>\n",
              "      <td>0.94600</td>\n",
              "      <td>0.9447</td>\n",
              "      <td>0.99120</td>\n",
              "      <td>0.9723</td>\n",
              "    </tr>\n",
              "    <tr>\n",
              "      <th>10</th>\n",
              "      <td>0.94848</td>\n",
              "      <td>0.9500</td>\n",
              "      <td>0.98998</td>\n",
              "      <td>0.9719</td>\n",
              "    </tr>\n",
              "  </tbody>\n",
              "</table>\n",
              "</div>\n",
              "      <button class=\"colab-df-convert\" onclick=\"convertToInteractive('df-497dd2c2-9a21-4b2f-bd17-bca9b8f1dd00')\"\n",
              "              title=\"Convert this dataframe to an interactive table.\"\n",
              "              style=\"display:none;\">\n",
              "        \n",
              "  <svg xmlns=\"http://www.w3.org/2000/svg\" height=\"24px\"viewBox=\"0 0 24 24\"\n",
              "       width=\"24px\">\n",
              "    <path d=\"M0 0h24v24H0V0z\" fill=\"none\"/>\n",
              "    <path d=\"M18.56 5.44l.94 2.06.94-2.06 2.06-.94-2.06-.94-.94-2.06-.94 2.06-2.06.94zm-11 1L8.5 8.5l.94-2.06 2.06-.94-2.06-.94L8.5 2.5l-.94 2.06-2.06.94zm10 10l.94 2.06.94-2.06 2.06-.94-2.06-.94-.94-2.06-.94 2.06-2.06.94z\"/><path d=\"M17.41 7.96l-1.37-1.37c-.4-.4-.92-.59-1.43-.59-.52 0-1.04.2-1.43.59L10.3 9.45l-7.72 7.72c-.78.78-.78 2.05 0 2.83L4 21.41c.39.39.9.59 1.41.59.51 0 1.02-.2 1.41-.59l7.78-7.78 2.81-2.81c.8-.78.8-2.07 0-2.86zM5.41 20L4 18.59l7.72-7.72 1.47 1.35L5.41 20z\"/>\n",
              "  </svg>\n",
              "      </button>\n",
              "      \n",
              "  <style>\n",
              "    .colab-df-container {\n",
              "      display:flex;\n",
              "      flex-wrap:wrap;\n",
              "      gap: 12px;\n",
              "    }\n",
              "\n",
              "    .colab-df-convert {\n",
              "      background-color: #E8F0FE;\n",
              "      border: none;\n",
              "      border-radius: 50%;\n",
              "      cursor: pointer;\n",
              "      display: none;\n",
              "      fill: #1967D2;\n",
              "      height: 32px;\n",
              "      padding: 0 0 0 0;\n",
              "      width: 32px;\n",
              "    }\n",
              "\n",
              "    .colab-df-convert:hover {\n",
              "      background-color: #E2EBFA;\n",
              "      box-shadow: 0px 1px 2px rgba(60, 64, 67, 0.3), 0px 1px 3px 1px rgba(60, 64, 67, 0.15);\n",
              "      fill: #174EA6;\n",
              "    }\n",
              "\n",
              "    [theme=dark] .colab-df-convert {\n",
              "      background-color: #3B4455;\n",
              "      fill: #D2E3FC;\n",
              "    }\n",
              "\n",
              "    [theme=dark] .colab-df-convert:hover {\n",
              "      background-color: #434B5C;\n",
              "      box-shadow: 0px 1px 3px 1px rgba(0, 0, 0, 0.15);\n",
              "      filter: drop-shadow(0px 1px 2px rgba(0, 0, 0, 0.3));\n",
              "      fill: #FFFFFF;\n",
              "    }\n",
              "  </style>\n",
              "\n",
              "      <script>\n",
              "        const buttonEl =\n",
              "          document.querySelector('#df-497dd2c2-9a21-4b2f-bd17-bca9b8f1dd00 button.colab-df-convert');\n",
              "        buttonEl.style.display =\n",
              "          google.colab.kernel.accessAllowed ? 'block' : 'none';\n",
              "\n",
              "        async function convertToInteractive(key) {\n",
              "          const element = document.querySelector('#df-497dd2c2-9a21-4b2f-bd17-bca9b8f1dd00');\n",
              "          const dataTable =\n",
              "            await google.colab.kernel.invokeFunction('convertToInteractive',\n",
              "                                                     [key], {});\n",
              "          if (!dataTable) return;\n",
              "\n",
              "          const docLinkHtml = 'Like what you see? Visit the ' +\n",
              "            '<a target=\"_blank\" href=https://colab.research.google.com/notebooks/data_table.ipynb>data table notebook</a>'\n",
              "            + ' to learn more about interactive tables.';\n",
              "          element.innerHTML = '';\n",
              "          dataTable['output_type'] = 'display_data';\n",
              "          await google.colab.output.renderOutput(dataTable, element);\n",
              "          const docLink = document.createElement('div');\n",
              "          docLink.innerHTML = docLinkHtml;\n",
              "          element.appendChild(docLink);\n",
              "        }\n",
              "      </script>\n",
              "    </div>\n",
              "  </div>\n",
              "  "
            ]
          },
          "metadata": {},
          "execution_count": 27
        }
      ]
    },
    {
      "cell_type": "code",
      "source": [
        "mean_values_acc = df_accuracy.mean()\n",
        "print(mean_values_acc)"
      ],
      "metadata": {
        "colab": {
          "base_uri": "https://localhost:8080/"
        },
        "id": "3LtXVHWiq9vw",
        "outputId": "b0dc573c-8da4-4193-b9cc-ede32aac5b1d"
      },
      "execution_count": 32,
      "outputs": [
        {
          "output_type": "stream",
          "name": "stdout",
          "text": [
            "ff_train_acc    0.947893\n",
            "ff_test_acc     0.948491\n",
            "fb_train_acc    0.991043\n",
            "fb_test_acc     0.972882\n",
            "dtype: float64\n"
          ]
        }
      ]
    },
    {
      "cell_type": "code",
      "source": [
        "# Perform the t-test and get the p-value on the train data\n",
        "p = ttest_ind(df_accuracy['ff_train_acc'], df_accuracy['fb_train_acc'])\n",
        "print(\"p-value:\", p)"
      ],
      "metadata": {
        "colab": {
          "base_uri": "https://localhost:8080/"
        },
        "id": "FltJs5NjpuCC",
        "outputId": "4f20567f-e773-4c42-d30e-bab722b508ba"
      },
      "execution_count": 30,
      "outputs": [
        {
          "output_type": "stream",
          "name": "stdout",
          "text": [
            "p-value: (-125.75562264122729, 1.8218429834622805e-30, 20.0)\n"
          ]
        }
      ]
    },
    {
      "cell_type": "markdown",
      "source": [
        "The p-value in this case appears to be a tuple of three values: -125.75562264122729, 1.8218429834622805e-30, and 20.0. These values can be interpreted as follows:\n",
        "\n",
        "-125.75562264122729: This value is the calculated test statistic for the hypothesis test, which measures the difference between the two sample means and provides a measure of how far apart the two means are from each other. A negative value of the test statistic indicates that the first mean is lower than the second mean, while a positive value indicates that the first mean is higher than the second mean.\n",
        "\n",
        "1.8218429834622805e-30: This value is the p-value, which is the probability of obtaining a test statistic as extreme or more extreme than the one observed, assuming that the null hypothesis is true. A small p-value, such as the one observed in this case, suggests that the null hypothesis is unlikely to be true, and provides strong evidence for rejecting the null hypothesis in favor of the alternative hypothesis.\n",
        "\n",
        "20.0: This value could be the degrees of freedom for the t-test, which is equal to the total number of observations in both samples minus the number of parameters estimated from the sample data. The degrees of freedom determine the shape of the t-distribution used to calculate the p-value.\n",
        "\n",
        "In this case, the p-value of 1.8218429834622805e-30 is extremely small and suggests that there is strong evidence against the null hypothesis. The researcher can therefore reject the null hypothesis and conclude that there is a statistically significant difference between the two sample means.\n",
        "\n",
        "\n",
        "\n",
        "\n"
      ],
      "metadata": {
        "id": "L9ifQrhBsVeL"
      }
    },
    {
      "cell_type": "code",
      "source": [
        "# Perform the t-test and get the p-value on the test data\n",
        "p = ttest_ind(df_accuracy['ff_test_acc'], df_accuracy['fb_test_acc'])\n",
        "print(\"p-value:\", p)"
      ],
      "metadata": {
        "colab": {
          "base_uri": "https://localhost:8080/"
        },
        "id": "mhijwjmtmFrJ",
        "outputId": "ec09a482-a3cf-4714-a2da-9776f20540db"
      },
      "execution_count": 28,
      "outputs": [
        {
          "output_type": "stream",
          "name": "stdout",
          "text": [
            "p-value: (-37.407938593481234, 5.472573092936269e-20, 20.0)\n"
          ]
        }
      ]
    },
    {
      "cell_type": "markdown",
      "source": [
        "The p-value in this case appears to be a tuple of three values: -37.407938593481234, 5.472573092936269e-20, and 20.0. These values can be interpreted as follows:\n",
        "\n",
        "-37.407938593481234: This value is the calculated test statistic for the hypothesis test, which measures the difference between the two sample means and provides a measure of how far apart the two means are from each other. A negative value of the test statistic indicates that the first mean is lower than the second mean, while a positive value indicates that the first mean is higher than the second mean.\n",
        "\n",
        "5.472573092936269e-20: This value is the p-value, which is the probability of obtaining a test statistic as extreme or more extreme than the one observed, assuming that the null hypothesis is true. A small p-value, such as the one observed in this case, suggests that the null hypothesis is unlikely to be true, and provides strong evidence for rejecting the null hypothesis in favor of the alternative hypothesis.\n",
        "\n",
        "20.0: This value could be the degrees of freedom for the t-test, which is equal to the total number of observations in both samples minus the number of parameters estimated from the sample data. The degrees of freedom determine the shape of the t-distribution used to calculate the p-value.\n",
        "\n",
        "In this case, the p-value of 5.472573092936269e-20 is extremely small and suggests that there is strong evidence against the null hypothesis. The researcher can therefore reject the null hypothesis and conclude that there is a statistically significant difference between the two sample means."
      ],
      "metadata": {
        "id": "qfT28qPZstBu"
      }
    }
  ]
}